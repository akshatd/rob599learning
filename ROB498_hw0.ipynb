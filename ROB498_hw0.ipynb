{
 "cells": [
  {
   "cell_type": "markdown",
   "metadata": {
    "id": "HiIVDCyVcxuW"
   },
   "source": []
  },
  {
   "cell_type": "code",
   "execution_count": 2,
   "metadata": {
    "executionInfo": {
     "elapsed": 131,
     "status": "ok",
     "timestamp": 1736717892865,
     "user": {
      "displayName": "Zixuan Huang",
      "userId": "02632847096430108003"
     },
     "user_tz": 300
    },
    "id": "qpaPkX8ccxuX"
   },
   "outputs": [],
   "source": [
    "import numpy as np\n",
    "import matplotlib.pyplot as plt"
   ]
  },
  {
   "cell_type": "markdown",
   "metadata": {},
   "source": [
    "# Homework 0:\n",
    "\n",
    "This homework serves as a brief introduction/refresher to batching operations using `numpy`, along with a bit of visualization practice using `matplotlib`.\n",
    "\n",
    "We will release our solution file for reference!\n"
   ]
  },
  {
   "cell_type": "markdown",
   "metadata": {},
   "source": [
    "## Q1: Generate Arrays\n",
    "\n",
    "Fill in the following functions that generate arrays of data using several types of routines.\n",
    "\n",
    "Check out [numpy array creation routines](https://numpy.org/devdocs/reference/routines.array-creation.html) and [random sampling](https://numpy.org/devdocs/reference/random/index.html) when implementing to find relevant functions for generating data.\n",
    "\n",
    "- `generate_zeros` - generate an array of data of shape (10, 35, 3) full of zeros.\n",
    "- `generate_between` - generate 50 numbers evenly spaced between two provided floats $a$ and $b$ (including a and b).\n",
    "- `generate_random` - generate a random array of integers between 1 and 8 of shape (2, 10)\n"
   ]
  },
  {
   "cell_type": "code",
   "execution_count": 2,
   "metadata": {},
   "outputs": [
    {
     "name": "stdout",
     "output_type": "stream",
     "text": [
      "Generate Zeros Correct?  False\n"
     ]
    },
    {
     "ename": "TypeError",
     "evalue": "'NoneType' object is not subscriptable",
     "output_type": "error",
     "traceback": [
      "\u001b[0;31m---------------------------------------------------------------------------\u001b[0m",
      "\u001b[0;31mTypeError\u001b[0m                                 Traceback (most recent call last)",
      "Cell \u001b[0;32mIn[2], line 13\u001b[0m\n\u001b[1;32m     10\u001b[0m     \u001b[38;5;28;01mpass\u001b[39;00m\n\u001b[1;32m     12\u001b[0m gen_betw \u001b[38;5;241m=\u001b[39m generate_between(\u001b[38;5;241m0\u001b[39m, \u001b[38;5;241m10\u001b[39m)\n\u001b[0;32m---> 13\u001b[0m \u001b[38;5;28mprint\u001b[39m(\u001b[38;5;124m\"\u001b[39m\u001b[38;5;124mGenerate Between correct? \u001b[39m\u001b[38;5;124m\"\u001b[39m, \u001b[43mgen_betw\u001b[49m\u001b[43m[\u001b[49m\u001b[38;5;241;43m0\u001b[39;49m\u001b[43m]\u001b[49m \u001b[38;5;241m==\u001b[39m \u001b[38;5;241m0\u001b[39m \u001b[38;5;129;01mand\u001b[39;00m gen_betw[\u001b[38;5;241m-\u001b[39m\u001b[38;5;241m1\u001b[39m] \u001b[38;5;241m==\u001b[39m \u001b[38;5;241m10\u001b[39m \u001b[38;5;129;01mand\u001b[39;00m np\u001b[38;5;241m.\u001b[39mallclose(gen_betw[\u001b[38;5;241m1\u001b[39m:] \u001b[38;5;241m-\u001b[39m gen_betw[:\u001b[38;5;241m-\u001b[39m\u001b[38;5;241m1\u001b[39m], (\u001b[38;5;241m10.0\u001b[39m \u001b[38;5;241m/\u001b[39m \u001b[38;5;241m49\u001b[39m)))\n\u001b[1;32m     15\u001b[0m \u001b[38;5;28;01mdef\u001b[39;00m\u001b[38;5;250m \u001b[39m\u001b[38;5;21mgenerate_random\u001b[39m():\n\u001b[1;32m     16\u001b[0m     \u001b[38;5;66;03m# IMPLEMENT HERE\u001b[39;00m\n\u001b[1;32m     17\u001b[0m     \u001b[38;5;28;01mpass\u001b[39;00m\n",
      "\u001b[0;31mTypeError\u001b[0m: 'NoneType' object is not subscriptable"
     ]
    }
   ],
   "source": [
    "def generate_zeros():\n",
    "    # IMPLEMENT HERE\n",
    "    pass\n",
    "\n",
    "zeros = generate_zeros() \n",
    "print(\"Generate Zeros Correct? \", np.all(zeros == 0) and zeros.shape == (10, 35, 3))\n",
    "\n",
    "def generate_between(a, b):\n",
    "    # IMPLEMENT HERE\n",
    "    pass\n",
    "\n",
    "gen_betw = generate_between(0, 10)\n",
    "print(\"Generate Between correct? \", gen_betw[0] == 0 and gen_betw[-1] == 10 and np.allclose(gen_betw[1:] - gen_betw[:-1], (10.0 / 49)))\n",
    "\n",
    "def generate_random():\n",
    "    # IMPLEMENT HERE\n",
    "    pass\n",
    "\n",
    "rand = generate_random()\n",
    "print(\"Generate random correct? \", np.all(rand >= 1) and np.all(rand <= 8) and rand.shape == (2, 10))"
   ]
  },
  {
   "cell_type": "markdown",
   "metadata": {},
   "source": [
    "## Q2: Copy Array Values\n",
    "\n",
    "Using your `generate_random` function from Q1, generate an array of (2, 10) data. Then implement the following functions.\n",
    "\n",
    "- `copy_along_last_dim` - given the random data, copy along last dim 3 times, so the resulting array is (2, 30) where the sequence of random numbers is repeated.\n",
    "- `copy_along_first_dim` - given the random data, copy along the first dimension 4 times, so the resulting array is (8, 10). This time instead of copying the sequence, copy it along the first dim so the first item is copied 4 times, then the next item is copied 4 times.\n",
    "\n",
    "Hint: Check out functions for [tiling arrays](https://numpy.org/devdocs/reference/routines.array-manipulation.html#tiling-arrays).\n"
   ]
  },
  {
   "cell_type": "code",
   "execution_count": null,
   "metadata": {},
   "outputs": [],
   "source": [
    "def copy_along_last_dim(rand_data):\n",
    "    # IMPLEMENT HERE\n",
    "    pass\n",
    "\n",
    "rand_data = generate_random()\n",
    "last_dim_rand = copy_along_last_dim(rand_data)\n",
    "\n",
    "print(\"Copy along last correct? \", last_dim_rand.shape == (2, 30) and np.all(np.split(last_dim_rand, 3, axis=1) == rand_data))\n",
    "\n",
    "def copy_along_first_dim(rand_data):\n",
    "    # IMPLEMENT HERE\n",
    "    pass\n",
    "\n",
    "first_dim_rand = copy_along_first_dim(rand_data)\n",
    "\n",
    "print(\"Copy along first correct? \", first_dim_rand.shape == (8, 10) and np.allclose(rand_data[0], first_dim_rand[:4]) and np.allclose(rand_data[1], first_dim_rand[4:]))"
   ]
  },
  {
   "cell_type": "markdown",
   "metadata": {
    "id": "DitMMbqkcxuZ"
   },
   "source": [
    "## Q3: Batch retrival\n",
    "\n",
    "Given a batch of images of shape (B, H, W, 3), retrieve the colors of specific locations for each image, based on an array of pixel indices `loc` of shape (B, 2).\n",
    "Tutorial on slicing and indexing in numpy: https://numpy.org/doc/stable/user/basics.indexing.html\n"
   ]
  },
  {
   "cell_type": "code",
   "execution_count": null,
   "metadata": {
    "colab": {
     "base_uri": "https://localhost:8080/"
    },
    "executionInfo": {
     "elapsed": 119,
     "status": "ok",
     "timestamp": 1736717903343,
     "user": {
      "displayName": "Zixuan Huang",
      "userId": "02632847096430108003"
     },
     "user_tz": 300
    },
    "id": "_zot9BVscxuZ",
    "outputId": "f2025e48-7a27-4f71-868c-7d33631bcd79"
   },
   "outputs": [],
   "source": [
    "\n",
    "def get_colors_at_locations_non_batch(images, loc):\n",
    "    B, H, W, C = images.shape\n",
    "    colors = np.zeros((B, C), dtype=images.dtype)\n",
    "\n",
    "    for i in range(B):\n",
    "        y, x = loc[i]\n",
    "        colors[i] = images[i, y, x]\n",
    "\n",
    "    return colors\n",
    "\n",
    "def get_colors_at_locations_batch(images, loc):\n",
    "    # IMPLEMENT HERE\n",
    "    pass\n",
    "\n",
    "\n",
    "# Example usage\n",
    "images = np.random.randint(0, 256, (5, 100, 100, 3), dtype=np.uint8)\n",
    "loc = np.array([[10, 10], [20, 20], [30, 30], [40, 40], [50, 50]])\n",
    "\n",
    "colors = get_colors_at_locations_non_batch(images, loc)\n",
    "colors_batch = get_colors_at_locations_batch(images, loc)\n",
    "print(\"Correct? \", np.linalg.norm(colors - colors_batch)< 1e-5)"
   ]
  },
  {
   "cell_type": "markdown",
   "metadata": {
    "id": "lo-SjFChcxua"
   },
   "source": [
    "## Q4: Pairwise Distance Matrix\n",
    "\n",
    "Given a batch of points:\n",
    "points = np.random.rand(50, 3),\n",
    "Compute the pairwise Euclidean distances between all points.\n",
    "Tutorial on broadcasting: https://numpy.org/doc/stable/user/basics.broadcasting.html\n"
   ]
  },
  {
   "cell_type": "code",
   "execution_count": null,
   "metadata": {
    "colab": {
     "base_uri": "https://localhost:8080/"
    },
    "executionInfo": {
     "elapsed": 1224,
     "status": "ok",
     "timestamp": 1736717926197,
     "user": {
      "displayName": "Zixuan Huang",
      "userId": "02632847096430108003"
     },
     "user_tz": 300
    },
    "id": "AAZPtasPcxua",
    "outputId": "ad637ded-6ca7-484d-cfff-915b41ef3efb"
   },
   "outputs": [],
   "source": [
    "#### Loop-Based Function\n",
    "def pairwise_distance_non_batch(points):\n",
    "    n = points.shape[0]\n",
    "    distances = np.zeros((n, n))\n",
    "    for i in range(n):\n",
    "        for j in range(n):\n",
    "            distances[i, j] = np.linalg.norm(points[i] - points[j])\n",
    "    return distances\n",
    "\n",
    "#### Vectorized Function\n",
    "def pairwise_distance_batch(points):\n",
    "    # IMPLEMENT HERE\n",
    "    pass\n",
    "\n",
    "points = np.random.rand(500, 3)\n",
    "dis_mat_loop = pairwise_distance_non_batch(points)\n",
    "dis_mat_batch = pairwise_distance_batch(points)\n",
    "print(\"Correct? \", np.linalg.norm(dis_mat_loop - dis_mat_batch) < 1e-5)"
   ]
  },
  {
   "cell_type": "markdown",
   "metadata": {
    "id": "CyfpFCZTcxua"
   },
   "source": [
    "## Q5 Masked vector operation\n",
    "\n",
    "Given a 2D array of shape (B, D), compute the sum of positive values for each row.\n",
    "Tutorial on slicing and indexing in numpy: https://numpy.org/doc/stable/user/basics.indexing.html\n"
   ]
  },
  {
   "cell_type": "code",
   "execution_count": null,
   "metadata": {
    "colab": {
     "base_uri": "https://localhost:8080/"
    },
    "executionInfo": {
     "elapsed": 139,
     "status": "ok",
     "timestamp": 1736717931382,
     "user": {
      "displayName": "Zixuan Huang",
      "userId": "02632847096430108003"
     },
     "user_tz": 300
    },
    "id": "acpseI4vcxua",
    "outputId": "7812d2d4-a5ad-474c-993d-e34693e33265"
   },
   "outputs": [],
   "source": [
    "#### Loop-Based Function\n",
    "def positive_sum_non_batch(data):\n",
    "    results = []\n",
    "    for row in data:\n",
    "        row_sum = 0\n",
    "        for element in row:\n",
    "            if element > 0:\n",
    "                row_sum += element\n",
    "        results.append(row_sum)\n",
    "    return np.array(results)\n",
    "\n",
    "#### Vectorized Function\n",
    "def positive_sum_batch(data):\n",
    "    # IMPLEMENT HERE\n",
    "    pass\n",
    "\n",
    "data = np.random.randn(100, 100)\n",
    "result_loop = positive_sum_non_batch(data)\n",
    "result_batch = positive_sum_batch(data)\n",
    "print(\"Correct? \", np.linalg.norm(result_loop - result_batch) < 1e-5)"
   ]
  },
  {
   "cell_type": "markdown",
   "metadata": {
    "id": "oZmMW_-zcxub"
   },
   "source": [
    "## Q6: Batch cosine similarity\n",
    "\n",
    "Given two batches of vectors of the same shape, compute the cosine similarity for each pair of vectors. The cosine similarity between two vectors $a$ and $b$ is defined as:\n",
    "$$\\text{cosine similarity} = \\frac{a \\cdot b}{\\|a\\| \\|b\\|}$$\n",
    "\n",
    "You may compute the norm of a vector (i.e. $\\|v\\|$) using [np.linalg.norm](https://numpy.org/doc/2.1/reference/generated/numpy.linalg.norm.html) and the dot product (i.e., $v \\cdot w$) using [np.dot](https://numpy.org/doc/2.1/reference/generated/numpy.dot.html).\n"
   ]
  },
  {
   "cell_type": "code",
   "execution_count": null,
   "metadata": {
    "colab": {
     "base_uri": "https://localhost:8080/"
    },
    "executionInfo": {
     "elapsed": 102,
     "status": "ok",
     "timestamp": 1736717934576,
     "user": {
      "displayName": "Zixuan Huang",
      "userId": "02632847096430108003"
     },
     "user_tz": 300
    },
    "id": "4MN7p76Xcxub",
    "outputId": "4fb578e2-841c-4081-f0f0-7cc738248f86"
   },
   "outputs": [],
   "source": [
    "#### Loop-Based Function\n",
    "def cosine_similarity_non_batch(batch_a, batch_b):\n",
    "    results = []\n",
    "    for a, b in zip(batch_a, batch_b):\n",
    "        numerator = np.dot(a, b)\n",
    "        denominator = np.linalg.norm(a) * np.linalg.norm(b)\n",
    "        results.append(numerator / denominator)\n",
    "    return np.array(results)\n",
    "\n",
    "def cosine_similarity_batch(batch_a, batch_b):\n",
    "    ### IMPLEMENT HERE\n",
    "    pass\n",
    "\n",
    "batch_a = np.random.randn(500, 100)\n",
    "batch_b = np.random.randn(500, 100)\n",
    "result_loop = cosine_similarity_non_batch(batch_a, batch_b)\n",
    "result_batch = cosine_similarity_batch(batch_a, batch_b)\n",
    "print(\"Correct? \", np.linalg.norm(result_loop - result_batch) < 1e-5)"
   ]
  },
  {
   "cell_type": "markdown",
   "metadata": {
    "id": "4dGUphA7cxub"
   },
   "source": [
    "## Q7: Compute joint torques\n",
    "\n",
    "Given a batch of force vectors $F\\in \\mathbb{R}^{6}$ applied to an end effector and the corresponding Jacobian matrices $J\\in \\mathbb{R}^{6\\times 7}$, compute the joint torques for each force: $\\tau = J^T F$. Each force vector in the batch should be combined with the (transpose) of the corresponding Jacobian in the batch of matrices.\n",
    "\n",
    "Hint: You may find np.einsum helpful for this task(https://labex.io/tutorials/python-numpy-einsum-for-scientific-computing-4991).\n"
   ]
  },
  {
   "cell_type": "code",
   "execution_count": null,
   "metadata": {
    "colab": {
     "base_uri": "https://localhost:8080/"
    },
    "executionInfo": {
     "elapsed": 103,
     "status": "ok",
     "timestamp": 1736717936476,
     "user": {
      "displayName": "Zixuan Huang",
      "userId": "02632847096430108003"
     },
     "user_tz": 300
    },
    "id": "TPrpHkaucxub",
    "outputId": "826d5314-b63e-4398-9659-67f4962bc175"
   },
   "outputs": [],
   "source": [
    "\n",
    "#### Loop-Based Function\n",
    "def compute_joint_torques_non_batch(forces, jacobians):\n",
    "    torques = []\n",
    "    for i in range(len(forces)):\n",
    "        torques.append(jacobians[i].T @ forces[i])\n",
    "    return np.array(torques)\n",
    "\n",
    "def compute_joint_torques_batch(forces, jacobians):\n",
    "    # IMPLEMENT HERE\n",
    "    pass\n",
    "\n",
    "\n",
    "forces = np.random.randn(100, 6)\n",
    "jacobians = np.random.randn(100, 6, 7)\n",
    "result_loop = compute_joint_torques_non_batch(forces, jacobians)\n",
    "result_batch = compute_joint_torques_batch(forces, jacobians)\n",
    "print(\"Correct? \", np.linalg.norm(result_loop - result_batch) < 1e-5)"
   ]
  },
  {
   "cell_type": "markdown",
   "metadata": {},
   "source": [
    "## Q8: Transform Points (2D)\n"
   ]
  },
  {
   "cell_type": "markdown",
   "metadata": {},
   "source": [
    "Given the 2D points of a pentagon and a single 3x3 transformation matrix in SE(2) (i.e., a planar rotation and translation), transform the vertices of the pentagon using the transformation matrix. If you are unfamiliar with homogenous transformation matrices, just treat it as a matrix multiplication!\n",
    "\n",
    "To properly apply the transformation matrix, we need to:\n",
    "\n",
    "- convert the 2D points to _homogeneous coordinates_ by appending a 1 to each point in our batch, so each point has 3 dimensions.\n",
    "- apply the 3x3 transformation to each point (in batch!).\n",
    "- convert the resulting 3D points back to 2D by simply dropping the last dimension.\n",
    "\n",
    "Here, we will be given the following transformation matrix, which corresponds to a rotation in the plane by 45 degrees and a translation by (1, 1):\n"
   ]
  },
  {
   "cell_type": "code",
   "execution_count": null,
   "metadata": {},
   "outputs": [],
   "source": [
    "transform = np.array([\n",
    "    [np.cos(np.pi/4), -np.sin(np.pi/4), 1],\n",
    "    [np.sin(np.pi/4), np.cos(np.pi/4), 1],\n",
    "    [0, 0, 1]\n",
    "])"
   ]
  },
  {
   "cell_type": "markdown",
   "metadata": {},
   "source": [
    "Here are the starting vertices of the pentagon:\n"
   ]
  },
  {
   "cell_type": "code",
   "execution_count": null,
   "metadata": {},
   "outputs": [],
   "source": [
    "pentagon = np.array([\n",
    "    [0, 0],\n",
    "    [0.5, 0],\n",
    "    [0.7, 0.5],\n",
    "    [0.25, 0.7],\n",
    "    [-0.2, 0.5],\n",
    "    [0, 0]\n",
    "])"
   ]
  },
  {
   "cell_type": "markdown",
   "metadata": {},
   "source": [
    "Implement the following function to complete the function as described:\n"
   ]
  },
  {
   "cell_type": "code",
   "execution_count": null,
   "metadata": {},
   "outputs": [],
   "source": [
    "#### Loop-Based Function\n",
    "def transform_points_non_batch(points, transform):\n",
    "    transformed_points = []\n",
    "    for point in points:\n",
    "        point = np.append(point, 1)\n",
    "        transformed_point = transform @ point\n",
    "        transformed_points.append(transformed_point[:2])\n",
    "    return np.array(transformed_points)\n",
    "\n",
    "def transform_points_batch(points, transform):\n",
    "    # IMPLEMENT HERE\n",
    "    pass\n",
    "\n",
    "tf_pentagon_non_batch = transform_points_non_batch(pentagon, transform)\n",
    "tf_pentagon_batch = transform_points_batch(pentagon, transform)\n",
    "print(\"Correct? \", np.linalg.norm(tf_pentagon_non_batch - tf_pentagon_batch) < 1e-5)"
   ]
  },
  {
   "cell_type": "markdown",
   "metadata": {},
   "source": [
    "Now implement the following function to use Matplotlib to visualize the original and transformed pentagons.\n"
   ]
  },
  {
   "cell_type": "code",
   "execution_count": null,
   "metadata": {},
   "outputs": [],
   "source": [
    "def visualize_pentagons(pentagon, tf_pentagon):\n",
    "    pass\n",
    "    \n",
    "visualize_pentagons(pentagon, tf_pentagon_batch)"
   ]
  },
  {
   "cell_type": "markdown",
   "metadata": {},
   "source": [
    "## Q9: Generate Grid\n",
    "\n",
    "Generate a 100x100 grid of points starting at (0, 0) in the bottom left and ending at (5, 5) in the top left.\n",
    "For each point `p=(x,y)`, generate a color label based on the following rules:\n",
    "\n",
    "- If `x < 1.5` set the color to green: RGB=[0, 1, 0].\n",
    "- If `x > 1.5` and `y > 0.5`, generate the color to be: RGB=[(0.5 * sin(y) + 0.5), 0, (0.5 * cos(y) + 0.5)].\n",
    "- Otherwise, set the color to red: RGB=[1, 0, 0].\n",
    "\n",
    "Hint: You may find [np.linspace](https://numpy.org/doc/2.1/reference/generated/numpy.linspace.html), [np.meshgrid](https://numpy.org/doc/2.1/reference/generated/numpy.meshgrid.html), and functions on [joining arrays](https://numpy.org/doc/stable/reference/routines.array-manipulation.html#joining-arrays) helpful.\n"
   ]
  },
  {
   "cell_type": "code",
   "execution_count": null,
   "metadata": {},
   "outputs": [],
   "source": [
    "def generate_grid_batch():\n",
    "    points = colors = None\n",
    "    \n",
    "    # IMPLEMENT HERE\n",
    "    \n",
    "    return points, colors\n",
    "\n",
    "points, colors = generate_grid_batch()\n",
    "\n",
    "# Plotting using plt.matshow\n",
    "plt.figure(figsize=(8, 8))\n",
    "plt.scatter(points[:, 0], points[:, 1], c=colors, marker='s')\n",
    "plt.title(\"Color-coded 100x100 Grid (Batched, List of Points)\")\n",
    "plt.xlabel(\"X-axis\")\n",
    "plt.ylabel(\"Y-axis\")\n",
    "plt.axis('equal')\n",
    "plt.grid(False)\n",
    "plt.show()"
   ]
  },
  {
   "cell_type": "markdown",
   "metadata": {},
   "source": [
    "## Q10: Normalizing Data\n",
    "\n",
    "Often in robotics learning problems (and learning more generally), we _normalize_ our data before applying a learning algorithm, for example, transforming raw sensor data to lie between 0 and 1.\n",
    "\n",
    "You are tasked with combining sensor data from multiple sources, each with different characteristics. Afterward, you need to normalize the combined dataset to have a zero mean and unit variance, i.e., to transform the data into a standard normal distribution.\n",
    "\n",
    "Each \"dataset\" $i$ will be an array of shape $D_i \\times 5$. Combine the datasets (provided as a list of arrays) into a single array of shape $D\\times 5$ where $D=\\sum_i D_i$. Then normalize along each of the 5 dimensions so that the data is roughly zero mean gaussian with unit variance.\n",
    "\n",
    "Hint: Explore the statistics functions available in numpy: https://numpy.org/devdocs/reference/routines.statistics.html\n"
   ]
  },
  {
   "cell_type": "code",
   "execution_count": null,
   "metadata": {},
   "outputs": [],
   "source": [
    "def normalize_sensor_data_batch(data_list):\n",
    "    # IMPLEMENT HERE\n",
    "    pass\n",
    "\n",
    "data1 = np.random.normal(loc=5, scale=2, size=(1000, 5))\n",
    "data2 = np.random.normal(loc=0, scale=1, size=(12, 5))\n",
    "data3 = np.random.normal(loc=-3, scale=0.5, size=(130, 5))\n",
    "\n",
    "normalized_data = normalize_sensor_data_batch([data1, data2, data3])\n",
    "\n",
    "# Verify the normalization\n",
    "print(\"Means of normalized data (should be close to 0):\", np.mean(normalized_data, axis=0))\n",
    "print(\"Standard deviations of normalized data (should be close to 1):\", np.std(normalized_data, axis=0))"
   ]
  },
  {
   "cell_type": "code",
   "execution_count": null,
   "metadata": {},
   "outputs": [],
   "source": []
  }
 ],
 "metadata": {
  "colab": {
   "provenance": []
  },
  "kernelspec": {
   "display_name": "rob599learning_repo-UbsyU0pF",
   "language": "python",
   "name": "python3"
  },
  "language_info": {
   "codemirror_mode": {
    "name": "ipython",
    "version": 3
   },
   "file_extension": ".py",
   "mimetype": "text/x-python",
   "name": "python",
   "nbconvert_exporter": "python",
   "pygments_lexer": "ipython3",
   "version": "3.13.1"
  }
 },
 "nbformat": 4,
 "nbformat_minor": 0
}
